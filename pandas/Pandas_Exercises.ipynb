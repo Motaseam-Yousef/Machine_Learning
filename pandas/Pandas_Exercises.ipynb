{
  "nbformat": 4,
  "nbformat_minor": 0,
  "metadata": {
    "colab": {
      "name": "Pandas_Exercises.ipynb",
      "provenance": []
    },
    "kernelspec": {
      "name": "python3",
      "display_name": "Python 3"
    },
    "language_info": {
      "name": "python"
    }
  },
  "cells": [
    {
      "cell_type": "code",
      "execution_count": null,
      "metadata": {
        "colab": {
          "base_uri": "https://localhost:8080/"
        },
        "id": "b8oYSfTA_BkU",
        "outputId": "3a5d9c90-42ee-4fcd-9c90-eb741fdd92bd"
      },
      "outputs": [
        {
          "output_type": "execute_result",
          "data": {
            "text/plain": [
              "150"
            ]
          },
          "metadata": {},
          "execution_count": 1
        }
      ],
      "source": [
        "# TASK: Use pandas to grab the expenses paid by Bob.\n",
        "# MAKE SURE TO READ THE FULL INSTRUCTIONS ABOVE CAREFULLY, AS THE EVALUATION SCRIPT IS VERY STRICT.\n",
        "#  Link to Solution: https://gist.github.com/Pierian-Data/3d7f7cb3528f015d9584d04a7168b97f\n",
        "import pandas as pd\n",
        "expenses = pd.Series({'Andrew':200,'Bob':150,'Claire':450})\n",
        "\n",
        "bob_expense = expenses['Bob']\n",
        "bob_expense"
      ]
    }
  ]
}