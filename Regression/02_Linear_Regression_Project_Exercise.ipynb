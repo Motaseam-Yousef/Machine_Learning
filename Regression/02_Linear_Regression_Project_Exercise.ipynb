{
  "cells": [
    {
      "cell_type": "markdown",
      "metadata": {
        "id": "86-Uvv-aOOIr"
      },
      "source": [
        "___\n",
        "\n",
        "<a href='http://www.pieriandata.com'><img src='../Pierian_Data_Logo.png'/></a>\n",
        "___\n",
        "<center><em>Copyright by Pierian Data Inc.</em></center>\n",
        "<center><em>For more information, visit us at <a href='http://www.pieriandata.com'>www.pieriandata.com</a></em></center>"
      ]
    },
    {
      "cell_type": "markdown",
      "metadata": {
        "id": "NmiOSXMzOOIx"
      },
      "source": [
        "# Linear Regression Project Exercise "
      ]
    },
    {
      "cell_type": "markdown",
      "metadata": {
        "id": "zx2WULBbOOIz"
      },
      "source": [
        "Now that we have learned about feature engineering, cross validation, and grid search, let's test all your new skills with a project exercise in Machine Learning. This exercise will have a more guided approach, later on the ML projects will begin to be more open-ended. We'll start off with using the final version of the Ames Housing dataset we worked on through the feature engineering section of the course. Your goal will be to create a Linear Regression Model, train it on the data with the optimal parameters using a grid search, and then evaluate the model's capabilities on a test set."
      ]
    },
    {
      "cell_type": "markdown",
      "metadata": {
        "id": "Qx0EwK23OOI0"
      },
      "source": [
        "---\n",
        "---\n",
        "---\n",
        "## Complete the tasks in bold\n",
        "\n",
        "**TASK: Run the cells under the Imports and Data section to make sure you have imported the correct general libraries as well as the correct datasets. Later on you may need to run further imports from scikit-learn.**\n",
        "\n",
        "### Imports"
      ]
    },
    {
      "cell_type": "code",
      "execution_count": 1,
      "metadata": {
        "id": "nvj15yA-OOI2"
      },
      "outputs": [],
      "source": [
        "import numpy as np\n",
        "import pandas as pd\n",
        "import matplotlib.pyplot as plt\n",
        "import seaborn as sns"
      ]
    },
    {
      "cell_type": "markdown",
      "metadata": {
        "id": "h9VlRDfFOOI4"
      },
      "source": [
        "### Data"
      ]
    },
    {
      "cell_type": "code",
      "execution_count": 2,
      "metadata": {
        "id": "7ei0aww1OOI5"
      },
      "outputs": [],
      "source": [
        "df = pd.read_csv(\"/content/AMES_Final_DF.csv\")"
      ]
    },
    {
      "cell_type": "code",
      "execution_count": 3,
      "metadata": {
        "colab": {
          "base_uri": "https://localhost:8080/",
          "height": 334
        },
        "id": "6wPBl7ghOOI6",
        "outputId": "17365153-9d26-49b5-85fb-db5227af31ec"
      },
      "outputs": [
        {
          "output_type": "execute_result",
          "data": {
            "text/plain": [
              "   Lot Frontage  Lot Area  Overall Qual  Overall Cond  Year Built  \\\n",
              "0         141.0     31770             6             5        1960   \n",
              "1          80.0     11622             5             6        1961   \n",
              "2          81.0     14267             6             6        1958   \n",
              "3          93.0     11160             7             5        1968   \n",
              "4          74.0     13830             5             5        1997   \n",
              "\n",
              "   Year Remod/Add  Mas Vnr Area  BsmtFin SF 1  BsmtFin SF 2  Bsmt Unf SF  ...  \\\n",
              "0            1960         112.0         639.0           0.0        441.0  ...   \n",
              "1            1961           0.0         468.0         144.0        270.0  ...   \n",
              "2            1958         108.0         923.0           0.0        406.0  ...   \n",
              "3            1968           0.0        1065.0           0.0       1045.0  ...   \n",
              "4            1998           0.0         791.0           0.0        137.0  ...   \n",
              "\n",
              "   Sale Type_ConLw  Sale Type_New  Sale Type_Oth  Sale Type_VWD  \\\n",
              "0                0              0              0              0   \n",
              "1                0              0              0              0   \n",
              "2                0              0              0              0   \n",
              "3                0              0              0              0   \n",
              "4                0              0              0              0   \n",
              "\n",
              "   Sale Type_WD   Sale Condition_AdjLand  Sale Condition_Alloca  \\\n",
              "0              1                       0                      0   \n",
              "1              1                       0                      0   \n",
              "2              1                       0                      0   \n",
              "3              1                       0                      0   \n",
              "4              1                       0                      0   \n",
              "\n",
              "   Sale Condition_Family  Sale Condition_Normal  Sale Condition_Partial  \n",
              "0                      0                      1                       0  \n",
              "1                      0                      1                       0  \n",
              "2                      0                      1                       0  \n",
              "3                      0                      1                       0  \n",
              "4                      0                      1                       0  \n",
              "\n",
              "[5 rows x 274 columns]"
            ],
            "text/html": [
              "\n",
              "  <div id=\"df-d2005179-e93e-4a64-9bdf-f35486549ce4\">\n",
              "    <div class=\"colab-df-container\">\n",
              "      <div>\n",
              "<style scoped>\n",
              "    .dataframe tbody tr th:only-of-type {\n",
              "        vertical-align: middle;\n",
              "    }\n",
              "\n",
              "    .dataframe tbody tr th {\n",
              "        vertical-align: top;\n",
              "    }\n",
              "\n",
              "    .dataframe thead th {\n",
              "        text-align: right;\n",
              "    }\n",
              "</style>\n",
              "<table border=\"1\" class=\"dataframe\">\n",
              "  <thead>\n",
              "    <tr style=\"text-align: right;\">\n",
              "      <th></th>\n",
              "      <th>Lot Frontage</th>\n",
              "      <th>Lot Area</th>\n",
              "      <th>Overall Qual</th>\n",
              "      <th>Overall Cond</th>\n",
              "      <th>Year Built</th>\n",
              "      <th>Year Remod/Add</th>\n",
              "      <th>Mas Vnr Area</th>\n",
              "      <th>BsmtFin SF 1</th>\n",
              "      <th>BsmtFin SF 2</th>\n",
              "      <th>Bsmt Unf SF</th>\n",
              "      <th>...</th>\n",
              "      <th>Sale Type_ConLw</th>\n",
              "      <th>Sale Type_New</th>\n",
              "      <th>Sale Type_Oth</th>\n",
              "      <th>Sale Type_VWD</th>\n",
              "      <th>Sale Type_WD</th>\n",
              "      <th>Sale Condition_AdjLand</th>\n",
              "      <th>Sale Condition_Alloca</th>\n",
              "      <th>Sale Condition_Family</th>\n",
              "      <th>Sale Condition_Normal</th>\n",
              "      <th>Sale Condition_Partial</th>\n",
              "    </tr>\n",
              "  </thead>\n",
              "  <tbody>\n",
              "    <tr>\n",
              "      <th>0</th>\n",
              "      <td>141.0</td>\n",
              "      <td>31770</td>\n",
              "      <td>6</td>\n",
              "      <td>5</td>\n",
              "      <td>1960</td>\n",
              "      <td>1960</td>\n",
              "      <td>112.0</td>\n",
              "      <td>639.0</td>\n",
              "      <td>0.0</td>\n",
              "      <td>441.0</td>\n",
              "      <td>...</td>\n",
              "      <td>0</td>\n",
              "      <td>0</td>\n",
              "      <td>0</td>\n",
              "      <td>0</td>\n",
              "      <td>1</td>\n",
              "      <td>0</td>\n",
              "      <td>0</td>\n",
              "      <td>0</td>\n",
              "      <td>1</td>\n",
              "      <td>0</td>\n",
              "    </tr>\n",
              "    <tr>\n",
              "      <th>1</th>\n",
              "      <td>80.0</td>\n",
              "      <td>11622</td>\n",
              "      <td>5</td>\n",
              "      <td>6</td>\n",
              "      <td>1961</td>\n",
              "      <td>1961</td>\n",
              "      <td>0.0</td>\n",
              "      <td>468.0</td>\n",
              "      <td>144.0</td>\n",
              "      <td>270.0</td>\n",
              "      <td>...</td>\n",
              "      <td>0</td>\n",
              "      <td>0</td>\n",
              "      <td>0</td>\n",
              "      <td>0</td>\n",
              "      <td>1</td>\n",
              "      <td>0</td>\n",
              "      <td>0</td>\n",
              "      <td>0</td>\n",
              "      <td>1</td>\n",
              "      <td>0</td>\n",
              "    </tr>\n",
              "    <tr>\n",
              "      <th>2</th>\n",
              "      <td>81.0</td>\n",
              "      <td>14267</td>\n",
              "      <td>6</td>\n",
              "      <td>6</td>\n",
              "      <td>1958</td>\n",
              "      <td>1958</td>\n",
              "      <td>108.0</td>\n",
              "      <td>923.0</td>\n",
              "      <td>0.0</td>\n",
              "      <td>406.0</td>\n",
              "      <td>...</td>\n",
              "      <td>0</td>\n",
              "      <td>0</td>\n",
              "      <td>0</td>\n",
              "      <td>0</td>\n",
              "      <td>1</td>\n",
              "      <td>0</td>\n",
              "      <td>0</td>\n",
              "      <td>0</td>\n",
              "      <td>1</td>\n",
              "      <td>0</td>\n",
              "    </tr>\n",
              "    <tr>\n",
              "      <th>3</th>\n",
              "      <td>93.0</td>\n",
              "      <td>11160</td>\n",
              "      <td>7</td>\n",
              "      <td>5</td>\n",
              "      <td>1968</td>\n",
              "      <td>1968</td>\n",
              "      <td>0.0</td>\n",
              "      <td>1065.0</td>\n",
              "      <td>0.0</td>\n",
              "      <td>1045.0</td>\n",
              "      <td>...</td>\n",
              "      <td>0</td>\n",
              "      <td>0</td>\n",
              "      <td>0</td>\n",
              "      <td>0</td>\n",
              "      <td>1</td>\n",
              "      <td>0</td>\n",
              "      <td>0</td>\n",
              "      <td>0</td>\n",
              "      <td>1</td>\n",
              "      <td>0</td>\n",
              "    </tr>\n",
              "    <tr>\n",
              "      <th>4</th>\n",
              "      <td>74.0</td>\n",
              "      <td>13830</td>\n",
              "      <td>5</td>\n",
              "      <td>5</td>\n",
              "      <td>1997</td>\n",
              "      <td>1998</td>\n",
              "      <td>0.0</td>\n",
              "      <td>791.0</td>\n",
              "      <td>0.0</td>\n",
              "      <td>137.0</td>\n",
              "      <td>...</td>\n",
              "      <td>0</td>\n",
              "      <td>0</td>\n",
              "      <td>0</td>\n",
              "      <td>0</td>\n",
              "      <td>1</td>\n",
              "      <td>0</td>\n",
              "      <td>0</td>\n",
              "      <td>0</td>\n",
              "      <td>1</td>\n",
              "      <td>0</td>\n",
              "    </tr>\n",
              "  </tbody>\n",
              "</table>\n",
              "<p>5 rows × 274 columns</p>\n",
              "</div>\n",
              "      <button class=\"colab-df-convert\" onclick=\"convertToInteractive('df-d2005179-e93e-4a64-9bdf-f35486549ce4')\"\n",
              "              title=\"Convert this dataframe to an interactive table.\"\n",
              "              style=\"display:none;\">\n",
              "        \n",
              "  <svg xmlns=\"http://www.w3.org/2000/svg\" height=\"24px\"viewBox=\"0 0 24 24\"\n",
              "       width=\"24px\">\n",
              "    <path d=\"M0 0h24v24H0V0z\" fill=\"none\"/>\n",
              "    <path d=\"M18.56 5.44l.94 2.06.94-2.06 2.06-.94-2.06-.94-.94-2.06-.94 2.06-2.06.94zm-11 1L8.5 8.5l.94-2.06 2.06-.94-2.06-.94L8.5 2.5l-.94 2.06-2.06.94zm10 10l.94 2.06.94-2.06 2.06-.94-2.06-.94-.94-2.06-.94 2.06-2.06.94z\"/><path d=\"M17.41 7.96l-1.37-1.37c-.4-.4-.92-.59-1.43-.59-.52 0-1.04.2-1.43.59L10.3 9.45l-7.72 7.72c-.78.78-.78 2.05 0 2.83L4 21.41c.39.39.9.59 1.41.59.51 0 1.02-.2 1.41-.59l7.78-7.78 2.81-2.81c.8-.78.8-2.07 0-2.86zM5.41 20L4 18.59l7.72-7.72 1.47 1.35L5.41 20z\"/>\n",
              "  </svg>\n",
              "      </button>\n",
              "      \n",
              "  <style>\n",
              "    .colab-df-container {\n",
              "      display:flex;\n",
              "      flex-wrap:wrap;\n",
              "      gap: 12px;\n",
              "    }\n",
              "\n",
              "    .colab-df-convert {\n",
              "      background-color: #E8F0FE;\n",
              "      border: none;\n",
              "      border-radius: 50%;\n",
              "      cursor: pointer;\n",
              "      display: none;\n",
              "      fill: #1967D2;\n",
              "      height: 32px;\n",
              "      padding: 0 0 0 0;\n",
              "      width: 32px;\n",
              "    }\n",
              "\n",
              "    .colab-df-convert:hover {\n",
              "      background-color: #E2EBFA;\n",
              "      box-shadow: 0px 1px 2px rgba(60, 64, 67, 0.3), 0px 1px 3px 1px rgba(60, 64, 67, 0.15);\n",
              "      fill: #174EA6;\n",
              "    }\n",
              "\n",
              "    [theme=dark] .colab-df-convert {\n",
              "      background-color: #3B4455;\n",
              "      fill: #D2E3FC;\n",
              "    }\n",
              "\n",
              "    [theme=dark] .colab-df-convert:hover {\n",
              "      background-color: #434B5C;\n",
              "      box-shadow: 0px 1px 3px 1px rgba(0, 0, 0, 0.15);\n",
              "      filter: drop-shadow(0px 1px 2px rgba(0, 0, 0, 0.3));\n",
              "      fill: #FFFFFF;\n",
              "    }\n",
              "  </style>\n",
              "\n",
              "      <script>\n",
              "        const buttonEl =\n",
              "          document.querySelector('#df-d2005179-e93e-4a64-9bdf-f35486549ce4 button.colab-df-convert');\n",
              "        buttonEl.style.display =\n",
              "          google.colab.kernel.accessAllowed ? 'block' : 'none';\n",
              "\n",
              "        async function convertToInteractive(key) {\n",
              "          const element = document.querySelector('#df-d2005179-e93e-4a64-9bdf-f35486549ce4');\n",
              "          const dataTable =\n",
              "            await google.colab.kernel.invokeFunction('convertToInteractive',\n",
              "                                                     [key], {});\n",
              "          if (!dataTable) return;\n",
              "\n",
              "          const docLinkHtml = 'Like what you see? Visit the ' +\n",
              "            '<a target=\"_blank\" href=https://colab.research.google.com/notebooks/data_table.ipynb>data table notebook</a>'\n",
              "            + ' to learn more about interactive tables.';\n",
              "          element.innerHTML = '';\n",
              "          dataTable['output_type'] = 'display_data';\n",
              "          await google.colab.output.renderOutput(dataTable, element);\n",
              "          const docLink = document.createElement('div');\n",
              "          docLink.innerHTML = docLinkHtml;\n",
              "          element.appendChild(docLink);\n",
              "        }\n",
              "      </script>\n",
              "    </div>\n",
              "  </div>\n",
              "  "
            ]
          },
          "metadata": {},
          "execution_count": 3
        }
      ],
      "source": [
        "df.head()"
      ]
    },
    {
      "cell_type": "code",
      "execution_count": 4,
      "metadata": {
        "colab": {
          "base_uri": "https://localhost:8080/"
        },
        "id": "BwLUyEKSOOI9",
        "outputId": "0d7250d5-537b-41e4-ffdc-a7ebe9c8716f"
      },
      "outputs": [
        {
          "output_type": "stream",
          "name": "stdout",
          "text": [
            "<class 'pandas.core.frame.DataFrame'>\n",
            "RangeIndex: 2925 entries, 0 to 2924\n",
            "Columns: 274 entries, Lot Frontage to Sale Condition_Partial\n",
            "dtypes: float64(11), int64(263)\n",
            "memory usage: 6.1 MB\n"
          ]
        }
      ],
      "source": [
        "df.info()"
      ]
    },
    {
      "cell_type": "markdown",
      "metadata": {
        "id": "PvC_PqZxOOI-"
      },
      "source": [
        "**TASK: The label we are trying to predict is the SalePrice column. Separate out the data into X features and y labels**"
      ]
    },
    {
      "cell_type": "code",
      "execution_count": 5,
      "metadata": {
        "id": "9FcVEvx8OOJA"
      },
      "outputs": [],
      "source": [
        "X=df.drop(\"SalePrice\",axis=1)\n",
        "y=df[\"SalePrice\"]"
      ]
    },
    {
      "cell_type": "markdown",
      "metadata": {
        "id": "I1QXhMM9OOJB"
      },
      "source": [
        "**TASK: Use scikit-learn to split up X and y into a training set and test set. Since we will later be using a Grid Search strategy, set your test proportion to 10%. To get the same data split as the solutions notebook, you can specify random_state = 101**"
      ]
    },
    {
      "cell_type": "code",
      "execution_count": 6,
      "metadata": {
        "id": "kndkZZlGOOJC"
      },
      "outputs": [],
      "source": [
        "from sklearn.model_selection import train_test_split\n",
        "X_train, X_test, y_train, y_test = train_test_split(X, y, test_size=0.1, random_state=101)"
      ]
    },
    {
      "cell_type": "markdown",
      "metadata": {
        "id": "xovHUFi0OOJD"
      },
      "source": [
        "**TASK: The dataset features has a variety of scales and units. For optimal regression performance, scale the X features. Take carefuly note of what to use for .fit() vs what to use for .transform()**"
      ]
    },
    {
      "cell_type": "code",
      "execution_count": 12,
      "metadata": {
        "id": "8uEu8hFxOOJE"
      },
      "outputs": [],
      "source": [
        "from sklearn.preprocessing import StandardScaler\n",
        "scaler = StandardScaler()\n",
        "scaler.fit(X_train)\n",
        "X_train = scaler.transform(X_train)\n",
        "X_test = scaler.transform(X_test)"
      ]
    },
    {
      "cell_type": "markdown",
      "metadata": {
        "id": "VicokdZWOOJF"
      },
      "source": [
        "**TASK: We will use an Elastic Net model. Create an instance of default ElasticNet model with scikit-learn**"
      ]
    },
    {
      "cell_type": "code",
      "execution_count": 14,
      "metadata": {
        "colab": {
          "base_uri": "https://localhost:8080/"
        },
        "id": "tOVBDYoFOOJF",
        "outputId": "5afe10d7-ba34-461e-c84e-f3a6a40d361c"
      },
      "outputs": [
        {
          "output_type": "execute_result",
          "data": {
            "text/plain": [
              "ElasticNet()"
            ]
          },
          "metadata": {},
          "execution_count": 14
        }
      ],
      "source": [
        "from sklearn.linear_model import ElasticNet\n",
        "\n",
        "ElasticNet_model = ElasticNet() \n",
        "ElasticNet_model.fit(X_train,y_train)"
      ]
    },
    {
      "cell_type": "markdown",
      "metadata": {
        "id": "G79LoLnDOOJJ"
      },
      "source": [
        "**TASK:  The Elastic Net model has two main parameters, alpha and the L1 ratio. Create a dictionary parameter grid of values for the ElasticNet. Feel free to play around with these values, keep in mind, you may not match up exactly with the solution choices**"
      ]
    },
    {
      "cell_type": "code",
      "execution_count": 15,
      "metadata": {
        "id": "nXk0pVZnOOJJ"
      },
      "outputs": [],
      "source": [
        "param_grid = {'alpha':[0.1,1,5,10,50,100],\n",
        "              'l1_ratio':[.1, .5, .7, .9, .95, .99, 1]}\n",
        "\n",
        "from sklearn.model_selection import GridSearchCV\n",
        "\n",
        "grid_model = GridSearchCV(estimator=ElasticNet_model,\n",
        "                          param_grid=param_grid,\n",
        "                          scoring='neg_mean_squared_error',\n",
        "                          cv=5,\n",
        "                          verbose=2)"
      ]
    },
    {
      "cell_type": "markdown",
      "metadata": {
        "id": "l-sxcGEpOOJJ"
      },
      "source": [
        "**TASK: Using scikit-learn create a GridSearchCV object and run a grid search for the best parameters for your model based on your scaled training data. [In case you are curious about the warnings you may recieve for certain parameter combinations](https://stackoverflow.com/questions/20681864/lasso-on-sklearn-does-not-converge)**"
      ]
    },
    {
      "cell_type": "code",
      "execution_count": 16,
      "metadata": {
        "colab": {
          "base_uri": "https://localhost:8080/"
        },
        "id": "RTXXzyqKOOJJ",
        "outputId": "09a4fa47-1be6-483d-89aa-c539abbe0226"
      },
      "outputs": [
        {
          "output_type": "stream",
          "name": "stdout",
          "text": [
            "Fitting 5 folds for each of 42 candidates, totalling 210 fits\n",
            "[CV] END ............................alpha=0.1, l1_ratio=0.1; total time=   0.6s\n",
            "[CV] END ............................alpha=0.1, l1_ratio=0.1; total time=   0.5s\n",
            "[CV] END ............................alpha=0.1, l1_ratio=0.1; total time=   0.5s\n",
            "[CV] END ............................alpha=0.1, l1_ratio=0.1; total time=   0.4s\n",
            "[CV] END ............................alpha=0.1, l1_ratio=0.1; total time=   0.6s\n",
            "[CV] END ............................alpha=0.1, l1_ratio=0.5; total time=   0.3s\n",
            "[CV] END ............................alpha=0.1, l1_ratio=0.5; total time=   0.3s\n",
            "[CV] END ............................alpha=0.1, l1_ratio=0.5; total time=   0.3s\n",
            "[CV] END ............................alpha=0.1, l1_ratio=0.5; total time=   0.3s\n",
            "[CV] END ............................alpha=0.1, l1_ratio=0.5; total time=   0.4s\n",
            "[CV] END ............................alpha=0.1, l1_ratio=0.7; total time=   0.4s\n",
            "[CV] END ............................alpha=0.1, l1_ratio=0.7; total time=   0.5s\n",
            "[CV] END ............................alpha=0.1, l1_ratio=0.7; total time=   0.4s\n",
            "[CV] END ............................alpha=0.1, l1_ratio=0.7; total time=   0.5s\n",
            "[CV] END ............................alpha=0.1, l1_ratio=0.7; total time=   0.4s\n"
          ]
        },
        {
          "output_type": "stream",
          "name": "stderr",
          "text": [
            "/usr/local/lib/python3.7/dist-packages/sklearn/linear_model/_coordinate_descent.py:648: ConvergenceWarning: Objective did not converge. You might want to increase the number of iterations, check the scale of the features or consider increasing regularisation. Duality gap: 1.394e+11, tolerance: 1.355e+09\n",
            "  coef_, l1_reg, l2_reg, X, y, max_iter, tol, rng, random, positive\n"
          ]
        },
        {
          "output_type": "stream",
          "name": "stdout",
          "text": [
            "[CV] END ............................alpha=0.1, l1_ratio=0.9; total time=   0.7s\n"
          ]
        },
        {
          "output_type": "stream",
          "name": "stderr",
          "text": [
            "/usr/local/lib/python3.7/dist-packages/sklearn/linear_model/_coordinate_descent.py:648: ConvergenceWarning: Objective did not converge. You might want to increase the number of iterations, check the scale of the features or consider increasing regularisation. Duality gap: 1.654e+11, tolerance: 1.308e+09\n",
            "  coef_, l1_reg, l2_reg, X, y, max_iter, tol, rng, random, positive\n"
          ]
        },
        {
          "output_type": "stream",
          "name": "stdout",
          "text": [
            "[CV] END ............................alpha=0.1, l1_ratio=0.9; total time=   0.7s\n"
          ]
        },
        {
          "output_type": "stream",
          "name": "stderr",
          "text": [
            "/usr/local/lib/python3.7/dist-packages/sklearn/linear_model/_coordinate_descent.py:648: ConvergenceWarning: Objective did not converge. You might want to increase the number of iterations, check the scale of the features or consider increasing regularisation. Duality gap: 1.324e+11, tolerance: 1.415e+09\n",
            "  coef_, l1_reg, l2_reg, X, y, max_iter, tol, rng, random, positive\n"
          ]
        },
        {
          "output_type": "stream",
          "name": "stdout",
          "text": [
            "[CV] END ............................alpha=0.1, l1_ratio=0.9; total time=   0.7s\n"
          ]
        },
        {
          "output_type": "stream",
          "name": "stderr",
          "text": [
            "/usr/local/lib/python3.7/dist-packages/sklearn/linear_model/_coordinate_descent.py:648: ConvergenceWarning: Objective did not converge. You might want to increase the number of iterations, check the scale of the features or consider increasing regularisation. Duality gap: 1.986e+11, tolerance: 1.438e+09\n",
            "  coef_, l1_reg, l2_reg, X, y, max_iter, tol, rng, random, positive\n"
          ]
        },
        {
          "output_type": "stream",
          "name": "stdout",
          "text": [
            "[CV] END ............................alpha=0.1, l1_ratio=0.9; total time=   0.7s\n"
          ]
        },
        {
          "output_type": "stream",
          "name": "stderr",
          "text": [
            "/usr/local/lib/python3.7/dist-packages/sklearn/linear_model/_coordinate_descent.py:648: ConvergenceWarning: Objective did not converge. You might want to increase the number of iterations, check the scale of the features or consider increasing regularisation. Duality gap: 1.553e+11, tolerance: 1.346e+09\n",
            "  coef_, l1_reg, l2_reg, X, y, max_iter, tol, rng, random, positive\n"
          ]
        },
        {
          "output_type": "stream",
          "name": "stdout",
          "text": [
            "[CV] END ............................alpha=0.1, l1_ratio=0.9; total time=   1.1s\n"
          ]
        },
        {
          "output_type": "stream",
          "name": "stderr",
          "text": [
            "/usr/local/lib/python3.7/dist-packages/sklearn/linear_model/_coordinate_descent.py:648: ConvergenceWarning: Objective did not converge. You might want to increase the number of iterations, check the scale of the features or consider increasing regularisation. Duality gap: 3.235e+11, tolerance: 1.355e+09\n",
            "  coef_, l1_reg, l2_reg, X, y, max_iter, tol, rng, random, positive\n"
          ]
        },
        {
          "output_type": "stream",
          "name": "stdout",
          "text": [
            "[CV] END ...........................alpha=0.1, l1_ratio=0.95; total time=   0.9s\n"
          ]
        },
        {
          "output_type": "stream",
          "name": "stderr",
          "text": [
            "/usr/local/lib/python3.7/dist-packages/sklearn/linear_model/_coordinate_descent.py:648: ConvergenceWarning: Objective did not converge. You might want to increase the number of iterations, check the scale of the features or consider increasing regularisation. Duality gap: 3.369e+11, tolerance: 1.308e+09\n",
            "  coef_, l1_reg, l2_reg, X, y, max_iter, tol, rng, random, positive\n"
          ]
        },
        {
          "output_type": "stream",
          "name": "stdout",
          "text": [
            "[CV] END ...........................alpha=0.1, l1_ratio=0.95; total time=   0.7s\n"
          ]
        },
        {
          "output_type": "stream",
          "name": "stderr",
          "text": [
            "/usr/local/lib/python3.7/dist-packages/sklearn/linear_model/_coordinate_descent.py:648: ConvergenceWarning: Objective did not converge. You might want to increase the number of iterations, check the scale of the features or consider increasing regularisation. Duality gap: 3.575e+11, tolerance: 1.415e+09\n",
            "  coef_, l1_reg, l2_reg, X, y, max_iter, tol, rng, random, positive\n"
          ]
        },
        {
          "output_type": "stream",
          "name": "stdout",
          "text": [
            "[CV] END ...........................alpha=0.1, l1_ratio=0.95; total time=   0.7s\n"
          ]
        },
        {
          "output_type": "stream",
          "name": "stderr",
          "text": [
            "/usr/local/lib/python3.7/dist-packages/sklearn/linear_model/_coordinate_descent.py:648: ConvergenceWarning: Objective did not converge. You might want to increase the number of iterations, check the scale of the features or consider increasing regularisation. Duality gap: 3.887e+11, tolerance: 1.438e+09\n",
            "  coef_, l1_reg, l2_reg, X, y, max_iter, tol, rng, random, positive\n"
          ]
        },
        {
          "output_type": "stream",
          "name": "stdout",
          "text": [
            "[CV] END ...........................alpha=0.1, l1_ratio=0.95; total time=   0.5s\n"
          ]
        },
        {
          "output_type": "stream",
          "name": "stderr",
          "text": [
            "/usr/local/lib/python3.7/dist-packages/sklearn/linear_model/_coordinate_descent.py:648: ConvergenceWarning: Objective did not converge. You might want to increase the number of iterations, check the scale of the features or consider increasing regularisation. Duality gap: 2.928e+11, tolerance: 1.346e+09\n",
            "  coef_, l1_reg, l2_reg, X, y, max_iter, tol, rng, random, positive\n"
          ]
        },
        {
          "output_type": "stream",
          "name": "stdout",
          "text": [
            "[CV] END ...........................alpha=0.1, l1_ratio=0.95; total time=   0.6s\n"
          ]
        },
        {
          "output_type": "stream",
          "name": "stderr",
          "text": [
            "/usr/local/lib/python3.7/dist-packages/sklearn/linear_model/_coordinate_descent.py:648: ConvergenceWarning: Objective did not converge. You might want to increase the number of iterations, check the scale of the features or consider increasing regularisation. Duality gap: 3.542e+11, tolerance: 1.355e+09\n",
            "  coef_, l1_reg, l2_reg, X, y, max_iter, tol, rng, random, positive\n"
          ]
        },
        {
          "output_type": "stream",
          "name": "stdout",
          "text": [
            "[CV] END ...........................alpha=0.1, l1_ratio=0.99; total time=   0.5s\n"
          ]
        },
        {
          "output_type": "stream",
          "name": "stderr",
          "text": [
            "/usr/local/lib/python3.7/dist-packages/sklearn/linear_model/_coordinate_descent.py:648: ConvergenceWarning: Objective did not converge. You might want to increase the number of iterations, check the scale of the features or consider increasing regularisation. Duality gap: 3.635e+11, tolerance: 1.308e+09\n",
            "  coef_, l1_reg, l2_reg, X, y, max_iter, tol, rng, random, positive\n"
          ]
        },
        {
          "output_type": "stream",
          "name": "stdout",
          "text": [
            "[CV] END ...........................alpha=0.1, l1_ratio=0.99; total time=   0.5s\n"
          ]
        },
        {
          "output_type": "stream",
          "name": "stderr",
          "text": [
            "/usr/local/lib/python3.7/dist-packages/sklearn/linear_model/_coordinate_descent.py:648: ConvergenceWarning: Objective did not converge. You might want to increase the number of iterations, check the scale of the features or consider increasing regularisation. Duality gap: 4.085e+11, tolerance: 1.415e+09\n",
            "  coef_, l1_reg, l2_reg, X, y, max_iter, tol, rng, random, positive\n"
          ]
        },
        {
          "output_type": "stream",
          "name": "stdout",
          "text": [
            "[CV] END ...........................alpha=0.1, l1_ratio=0.99; total time=   0.5s\n"
          ]
        },
        {
          "output_type": "stream",
          "name": "stderr",
          "text": [
            "/usr/local/lib/python3.7/dist-packages/sklearn/linear_model/_coordinate_descent.py:648: ConvergenceWarning: Objective did not converge. You might want to increase the number of iterations, check the scale of the features or consider increasing regularisation. Duality gap: 4.071e+11, tolerance: 1.438e+09\n",
            "  coef_, l1_reg, l2_reg, X, y, max_iter, tol, rng, random, positive\n"
          ]
        },
        {
          "output_type": "stream",
          "name": "stdout",
          "text": [
            "[CV] END ...........................alpha=0.1, l1_ratio=0.99; total time=   0.5s\n"
          ]
        },
        {
          "output_type": "stream",
          "name": "stderr",
          "text": [
            "/usr/local/lib/python3.7/dist-packages/sklearn/linear_model/_coordinate_descent.py:648: ConvergenceWarning: Objective did not converge. You might want to increase the number of iterations, check the scale of the features or consider increasing regularisation. Duality gap: 3.553e+11, tolerance: 1.346e+09\n",
            "  coef_, l1_reg, l2_reg, X, y, max_iter, tol, rng, random, positive\n"
          ]
        },
        {
          "output_type": "stream",
          "name": "stdout",
          "text": [
            "[CV] END ...........................alpha=0.1, l1_ratio=0.99; total time=   0.5s\n"
          ]
        },
        {
          "output_type": "stream",
          "name": "stderr",
          "text": [
            "/usr/local/lib/python3.7/dist-packages/sklearn/linear_model/_coordinate_descent.py:648: ConvergenceWarning: Objective did not converge. You might want to increase the number of iterations, check the scale of the features or consider increasing regularisation. Duality gap: 3.498e+11, tolerance: 1.355e+09\n",
            "  coef_, l1_reg, l2_reg, X, y, max_iter, tol, rng, random, positive\n"
          ]
        },
        {
          "output_type": "stream",
          "name": "stdout",
          "text": [
            "[CV] END ..............................alpha=0.1, l1_ratio=1; total time=   0.5s\n"
          ]
        },
        {
          "output_type": "stream",
          "name": "stderr",
          "text": [
            "/usr/local/lib/python3.7/dist-packages/sklearn/linear_model/_coordinate_descent.py:648: ConvergenceWarning: Objective did not converge. You might want to increase the number of iterations, check the scale of the features or consider increasing regularisation. Duality gap: 3.591e+11, tolerance: 1.308e+09\n",
            "  coef_, l1_reg, l2_reg, X, y, max_iter, tol, rng, random, positive\n"
          ]
        },
        {
          "output_type": "stream",
          "name": "stdout",
          "text": [
            "[CV] END ..............................alpha=0.1, l1_ratio=1; total time=   0.5s\n"
          ]
        },
        {
          "output_type": "stream",
          "name": "stderr",
          "text": [
            "/usr/local/lib/python3.7/dist-packages/sklearn/linear_model/_coordinate_descent.py:648: ConvergenceWarning: Objective did not converge. You might want to increase the number of iterations, check the scale of the features or consider increasing regularisation. Duality gap: 4.066e+11, tolerance: 1.415e+09\n",
            "  coef_, l1_reg, l2_reg, X, y, max_iter, tol, rng, random, positive\n"
          ]
        },
        {
          "output_type": "stream",
          "name": "stdout",
          "text": [
            "[CV] END ..............................alpha=0.1, l1_ratio=1; total time=   0.5s\n"
          ]
        },
        {
          "output_type": "stream",
          "name": "stderr",
          "text": [
            "/usr/local/lib/python3.7/dist-packages/sklearn/linear_model/_coordinate_descent.py:648: ConvergenceWarning: Objective did not converge. You might want to increase the number of iterations, check the scale of the features or consider increasing regularisation. Duality gap: 4.028e+11, tolerance: 1.438e+09\n",
            "  coef_, l1_reg, l2_reg, X, y, max_iter, tol, rng, random, positive\n"
          ]
        },
        {
          "output_type": "stream",
          "name": "stdout",
          "text": [
            "[CV] END ..............................alpha=0.1, l1_ratio=1; total time=   0.5s\n"
          ]
        },
        {
          "output_type": "stream",
          "name": "stderr",
          "text": [
            "/usr/local/lib/python3.7/dist-packages/sklearn/linear_model/_coordinate_descent.py:648: ConvergenceWarning: Objective did not converge. You might want to increase the number of iterations, check the scale of the features or consider increasing regularisation. Duality gap: 3.687e+11, tolerance: 1.346e+09\n",
            "  coef_, l1_reg, l2_reg, X, y, max_iter, tol, rng, random, positive\n"
          ]
        },
        {
          "output_type": "stream",
          "name": "stdout",
          "text": [
            "[CV] END ..............................alpha=0.1, l1_ratio=1; total time=   0.5s\n",
            "[CV] END ..............................alpha=1, l1_ratio=0.1; total time=   0.1s\n",
            "[CV] END ..............................alpha=1, l1_ratio=0.1; total time=   0.1s\n",
            "[CV] END ..............................alpha=1, l1_ratio=0.1; total time=   0.1s\n",
            "[CV] END ..............................alpha=1, l1_ratio=0.1; total time=   0.1s\n",
            "[CV] END ..............................alpha=1, l1_ratio=0.1; total time=   0.1s\n",
            "[CV] END ..............................alpha=1, l1_ratio=0.5; total time=   0.1s\n",
            "[CV] END ..............................alpha=1, l1_ratio=0.5; total time=   0.1s\n",
            "[CV] END ..............................alpha=1, l1_ratio=0.5; total time=   0.1s\n",
            "[CV] END ..............................alpha=1, l1_ratio=0.5; total time=   0.1s\n",
            "[CV] END ..............................alpha=1, l1_ratio=0.5; total time=   0.1s\n",
            "[CV] END ..............................alpha=1, l1_ratio=0.7; total time=   0.1s\n",
            "[CV] END ..............................alpha=1, l1_ratio=0.7; total time=   0.1s\n",
            "[CV] END ..............................alpha=1, l1_ratio=0.7; total time=   0.1s\n",
            "[CV] END ..............................alpha=1, l1_ratio=0.7; total time=   0.1s\n",
            "[CV] END ..............................alpha=1, l1_ratio=0.7; total time=   0.1s\n",
            "[CV] END ..............................alpha=1, l1_ratio=0.9; total time=   0.2s\n",
            "[CV] END ..............................alpha=1, l1_ratio=0.9; total time=   0.2s\n",
            "[CV] END ..............................alpha=1, l1_ratio=0.9; total time=   0.2s\n",
            "[CV] END ..............................alpha=1, l1_ratio=0.9; total time=   0.2s\n",
            "[CV] END ..............................alpha=1, l1_ratio=0.9; total time=   0.1s\n",
            "[CV] END .............................alpha=1, l1_ratio=0.95; total time=   0.2s\n",
            "[CV] END .............................alpha=1, l1_ratio=0.95; total time=   0.2s\n",
            "[CV] END .............................alpha=1, l1_ratio=0.95; total time=   0.2s\n",
            "[CV] END .............................alpha=1, l1_ratio=0.95; total time=   0.2s\n",
            "[CV] END .............................alpha=1, l1_ratio=0.95; total time=   0.3s\n",
            "[CV] END .............................alpha=1, l1_ratio=0.99; total time=   0.5s\n",
            "[CV] END .............................alpha=1, l1_ratio=0.99; total time=   0.5s\n",
            "[CV] END .............................alpha=1, l1_ratio=0.99; total time=   0.5s\n",
            "[CV] END .............................alpha=1, l1_ratio=0.99; total time=   0.6s\n",
            "[CV] END .............................alpha=1, l1_ratio=0.99; total time=   0.5s\n"
          ]
        },
        {
          "output_type": "stream",
          "name": "stderr",
          "text": [
            "/usr/local/lib/python3.7/dist-packages/sklearn/linear_model/_coordinate_descent.py:648: ConvergenceWarning: Objective did not converge. You might want to increase the number of iterations, check the scale of the features or consider increasing regularisation. Duality gap: 3.025e+11, tolerance: 1.355e+09\n",
            "  coef_, l1_reg, l2_reg, X, y, max_iter, tol, rng, random, positive\n"
          ]
        },
        {
          "output_type": "stream",
          "name": "stdout",
          "text": [
            "[CV] END ................................alpha=1, l1_ratio=1; total time=   0.5s\n"
          ]
        },
        {
          "output_type": "stream",
          "name": "stderr",
          "text": [
            "/usr/local/lib/python3.7/dist-packages/sklearn/linear_model/_coordinate_descent.py:648: ConvergenceWarning: Objective did not converge. You might want to increase the number of iterations, check the scale of the features or consider increasing regularisation. Duality gap: 3.127e+11, tolerance: 1.308e+09\n",
            "  coef_, l1_reg, l2_reg, X, y, max_iter, tol, rng, random, positive\n"
          ]
        },
        {
          "output_type": "stream",
          "name": "stdout",
          "text": [
            "[CV] END ................................alpha=1, l1_ratio=1; total time=   0.5s\n"
          ]
        },
        {
          "output_type": "stream",
          "name": "stderr",
          "text": [
            "/usr/local/lib/python3.7/dist-packages/sklearn/linear_model/_coordinate_descent.py:648: ConvergenceWarning: Objective did not converge. You might want to increase the number of iterations, check the scale of the features or consider increasing regularisation. Duality gap: 3.475e+11, tolerance: 1.415e+09\n",
            "  coef_, l1_reg, l2_reg, X, y, max_iter, tol, rng, random, positive\n"
          ]
        },
        {
          "output_type": "stream",
          "name": "stdout",
          "text": [
            "[CV] END ................................alpha=1, l1_ratio=1; total time=   0.5s\n"
          ]
        },
        {
          "output_type": "stream",
          "name": "stderr",
          "text": [
            "/usr/local/lib/python3.7/dist-packages/sklearn/linear_model/_coordinate_descent.py:648: ConvergenceWarning: Objective did not converge. You might want to increase the number of iterations, check the scale of the features or consider increasing regularisation. Duality gap: 3.526e+11, tolerance: 1.438e+09\n",
            "  coef_, l1_reg, l2_reg, X, y, max_iter, tol, rng, random, positive\n"
          ]
        },
        {
          "output_type": "stream",
          "name": "stdout",
          "text": [
            "[CV] END ................................alpha=1, l1_ratio=1; total time=   0.5s\n"
          ]
        },
        {
          "output_type": "stream",
          "name": "stderr",
          "text": [
            "/usr/local/lib/python3.7/dist-packages/sklearn/linear_model/_coordinate_descent.py:648: ConvergenceWarning: Objective did not converge. You might want to increase the number of iterations, check the scale of the features or consider increasing regularisation. Duality gap: 2.559e+11, tolerance: 1.346e+09\n",
            "  coef_, l1_reg, l2_reg, X, y, max_iter, tol, rng, random, positive\n"
          ]
        },
        {
          "output_type": "stream",
          "name": "stdout",
          "text": [
            "[CV] END ................................alpha=1, l1_ratio=1; total time=   0.5s\n",
            "[CV] END ..............................alpha=5, l1_ratio=0.1; total time=   0.0s\n",
            "[CV] END ..............................alpha=5, l1_ratio=0.1; total time=   0.0s\n",
            "[CV] END ..............................alpha=5, l1_ratio=0.1; total time=   0.0s\n",
            "[CV] END ..............................alpha=5, l1_ratio=0.1; total time=   0.0s\n",
            "[CV] END ..............................alpha=5, l1_ratio=0.1; total time=   0.0s\n",
            "[CV] END ..............................alpha=5, l1_ratio=0.5; total time=   0.0s\n",
            "[CV] END ..............................alpha=5, l1_ratio=0.5; total time=   0.1s\n",
            "[CV] END ..............................alpha=5, l1_ratio=0.5; total time=   0.0s\n",
            "[CV] END ..............................alpha=5, l1_ratio=0.5; total time=   0.0s\n",
            "[CV] END ..............................alpha=5, l1_ratio=0.5; total time=   0.0s\n",
            "[CV] END ..............................alpha=5, l1_ratio=0.7; total time=   0.0s\n",
            "[CV] END ..............................alpha=5, l1_ratio=0.7; total time=   0.1s\n",
            "[CV] END ..............................alpha=5, l1_ratio=0.7; total time=   0.0s\n",
            "[CV] END ..............................alpha=5, l1_ratio=0.7; total time=   0.0s\n",
            "[CV] END ..............................alpha=5, l1_ratio=0.7; total time=   0.0s\n",
            "[CV] END ..............................alpha=5, l1_ratio=0.9; total time=   0.1s\n",
            "[CV] END ..............................alpha=5, l1_ratio=0.9; total time=   0.1s\n",
            "[CV] END ..............................alpha=5, l1_ratio=0.9; total time=   0.1s\n",
            "[CV] END ..............................alpha=5, l1_ratio=0.9; total time=   0.1s\n",
            "[CV] END ..............................alpha=5, l1_ratio=0.9; total time=   0.1s\n",
            "[CV] END .............................alpha=5, l1_ratio=0.95; total time=   0.1s\n",
            "[CV] END .............................alpha=5, l1_ratio=0.95; total time=   0.1s\n",
            "[CV] END .............................alpha=5, l1_ratio=0.95; total time=   0.1s\n",
            "[CV] END .............................alpha=5, l1_ratio=0.95; total time=   0.1s\n",
            "[CV] END .............................alpha=5, l1_ratio=0.95; total time=   0.1s\n",
            "[CV] END .............................alpha=5, l1_ratio=0.99; total time=   0.2s\n",
            "[CV] END .............................alpha=5, l1_ratio=0.99; total time=   0.2s\n",
            "[CV] END .............................alpha=5, l1_ratio=0.99; total time=   0.2s\n",
            "[CV] END .............................alpha=5, l1_ratio=0.99; total time=   0.2s\n",
            "[CV] END .............................alpha=5, l1_ratio=0.99; total time=   0.2s\n"
          ]
        },
        {
          "output_type": "stream",
          "name": "stderr",
          "text": [
            "/usr/local/lib/python3.7/dist-packages/sklearn/linear_model/_coordinate_descent.py:648: ConvergenceWarning: Objective did not converge. You might want to increase the number of iterations, check the scale of the features or consider increasing regularisation. Duality gap: 1.707e+11, tolerance: 1.355e+09\n",
            "  coef_, l1_reg, l2_reg, X, y, max_iter, tol, rng, random, positive\n"
          ]
        },
        {
          "output_type": "stream",
          "name": "stdout",
          "text": [
            "[CV] END ................................alpha=5, l1_ratio=1; total time=   0.5s\n"
          ]
        },
        {
          "output_type": "stream",
          "name": "stderr",
          "text": [
            "/usr/local/lib/python3.7/dist-packages/sklearn/linear_model/_coordinate_descent.py:648: ConvergenceWarning: Objective did not converge. You might want to increase the number of iterations, check the scale of the features or consider increasing regularisation. Duality gap: 1.869e+11, tolerance: 1.308e+09\n",
            "  coef_, l1_reg, l2_reg, X, y, max_iter, tol, rng, random, positive\n"
          ]
        },
        {
          "output_type": "stream",
          "name": "stdout",
          "text": [
            "[CV] END ................................alpha=5, l1_ratio=1; total time=   0.5s\n"
          ]
        },
        {
          "output_type": "stream",
          "name": "stderr",
          "text": [
            "/usr/local/lib/python3.7/dist-packages/sklearn/linear_model/_coordinate_descent.py:648: ConvergenceWarning: Objective did not converge. You might want to increase the number of iterations, check the scale of the features or consider increasing regularisation. Duality gap: 1.965e+11, tolerance: 1.415e+09\n",
            "  coef_, l1_reg, l2_reg, X, y, max_iter, tol, rng, random, positive\n"
          ]
        },
        {
          "output_type": "stream",
          "name": "stdout",
          "text": [
            "[CV] END ................................alpha=5, l1_ratio=1; total time=   0.5s\n"
          ]
        },
        {
          "output_type": "stream",
          "name": "stderr",
          "text": [
            "/usr/local/lib/python3.7/dist-packages/sklearn/linear_model/_coordinate_descent.py:648: ConvergenceWarning: Objective did not converge. You might want to increase the number of iterations, check the scale of the features or consider increasing regularisation. Duality gap: 2.128e+11, tolerance: 1.438e+09\n",
            "  coef_, l1_reg, l2_reg, X, y, max_iter, tol, rng, random, positive\n"
          ]
        },
        {
          "output_type": "stream",
          "name": "stdout",
          "text": [
            "[CV] END ................................alpha=5, l1_ratio=1; total time=   0.5s\n"
          ]
        },
        {
          "output_type": "stream",
          "name": "stderr",
          "text": [
            "/usr/local/lib/python3.7/dist-packages/sklearn/linear_model/_coordinate_descent.py:648: ConvergenceWarning: Objective did not converge. You might want to increase the number of iterations, check the scale of the features or consider increasing regularisation. Duality gap: 4.849e+09, tolerance: 1.346e+09\n",
            "  coef_, l1_reg, l2_reg, X, y, max_iter, tol, rng, random, positive\n"
          ]
        },
        {
          "output_type": "stream",
          "name": "stdout",
          "text": [
            "[CV] END ................................alpha=5, l1_ratio=1; total time=   0.5s\n",
            "[CV] END .............................alpha=10, l1_ratio=0.1; total time=   0.0s\n",
            "[CV] END .............................alpha=10, l1_ratio=0.1; total time=   0.0s\n",
            "[CV] END .............................alpha=10, l1_ratio=0.1; total time=   0.0s\n",
            "[CV] END .............................alpha=10, l1_ratio=0.1; total time=   0.0s\n",
            "[CV] END .............................alpha=10, l1_ratio=0.1; total time=   0.0s\n",
            "[CV] END .............................alpha=10, l1_ratio=0.5; total time=   0.0s\n",
            "[CV] END .............................alpha=10, l1_ratio=0.5; total time=   0.0s\n",
            "[CV] END .............................alpha=10, l1_ratio=0.5; total time=   0.0s\n",
            "[CV] END .............................alpha=10, l1_ratio=0.5; total time=   0.0s\n",
            "[CV] END .............................alpha=10, l1_ratio=0.5; total time=   0.0s\n",
            "[CV] END .............................alpha=10, l1_ratio=0.7; total time=   0.0s\n",
            "[CV] END .............................alpha=10, l1_ratio=0.7; total time=   0.0s\n",
            "[CV] END .............................alpha=10, l1_ratio=0.7; total time=   0.0s\n",
            "[CV] END .............................alpha=10, l1_ratio=0.7; total time=   0.0s\n",
            "[CV] END .............................alpha=10, l1_ratio=0.7; total time=   0.0s\n",
            "[CV] END .............................alpha=10, l1_ratio=0.9; total time=   0.0s\n",
            "[CV] END .............................alpha=10, l1_ratio=0.9; total time=   0.0s\n",
            "[CV] END .............................alpha=10, l1_ratio=0.9; total time=   0.0s\n",
            "[CV] END .............................alpha=10, l1_ratio=0.9; total time=   0.0s\n",
            "[CV] END .............................alpha=10, l1_ratio=0.9; total time=   0.1s\n",
            "[CV] END ............................alpha=10, l1_ratio=0.95; total time=   0.1s\n",
            "[CV] END ............................alpha=10, l1_ratio=0.95; total time=   0.1s\n",
            "[CV] END ............................alpha=10, l1_ratio=0.95; total time=   0.1s\n",
            "[CV] END ............................alpha=10, l1_ratio=0.95; total time=   0.1s\n",
            "[CV] END ............................alpha=10, l1_ratio=0.95; total time=   0.1s\n",
            "[CV] END ............................alpha=10, l1_ratio=0.99; total time=   0.1s\n",
            "[CV] END ............................alpha=10, l1_ratio=0.99; total time=   0.1s\n",
            "[CV] END ............................alpha=10, l1_ratio=0.99; total time=   0.1s\n",
            "[CV] END ............................alpha=10, l1_ratio=0.99; total time=   0.1s\n",
            "[CV] END ............................alpha=10, l1_ratio=0.99; total time=   0.1s\n"
          ]
        },
        {
          "output_type": "stream",
          "name": "stderr",
          "text": [
            "/usr/local/lib/python3.7/dist-packages/sklearn/linear_model/_coordinate_descent.py:648: ConvergenceWarning: Objective did not converge. You might want to increase the number of iterations, check the scale of the features or consider increasing regularisation. Duality gap: 1.313e+10, tolerance: 1.355e+09\n",
            "  coef_, l1_reg, l2_reg, X, y, max_iter, tol, rng, random, positive\n"
          ]
        },
        {
          "output_type": "stream",
          "name": "stdout",
          "text": [
            "[CV] END ...............................alpha=10, l1_ratio=1; total time=   0.5s\n"
          ]
        },
        {
          "output_type": "stream",
          "name": "stderr",
          "text": [
            "/usr/local/lib/python3.7/dist-packages/sklearn/linear_model/_coordinate_descent.py:648: ConvergenceWarning: Objective did not converge. You might want to increase the number of iterations, check the scale of the features or consider increasing regularisation. Duality gap: 4.414e+09, tolerance: 1.308e+09\n",
            "  coef_, l1_reg, l2_reg, X, y, max_iter, tol, rng, random, positive\n"
          ]
        },
        {
          "output_type": "stream",
          "name": "stdout",
          "text": [
            "[CV] END ...............................alpha=10, l1_ratio=1; total time=   0.5s\n"
          ]
        },
        {
          "output_type": "stream",
          "name": "stderr",
          "text": [
            "/usr/local/lib/python3.7/dist-packages/sklearn/linear_model/_coordinate_descent.py:648: ConvergenceWarning: Objective did not converge. You might want to increase the number of iterations, check the scale of the features or consider increasing regularisation. Duality gap: 3.628e+10, tolerance: 1.415e+09\n",
            "  coef_, l1_reg, l2_reg, X, y, max_iter, tol, rng, random, positive\n"
          ]
        },
        {
          "output_type": "stream",
          "name": "stdout",
          "text": [
            "[CV] END ...............................alpha=10, l1_ratio=1; total time=   0.5s\n"
          ]
        },
        {
          "output_type": "stream",
          "name": "stderr",
          "text": [
            "/usr/local/lib/python3.7/dist-packages/sklearn/linear_model/_coordinate_descent.py:648: ConvergenceWarning: Objective did not converge. You might want to increase the number of iterations, check the scale of the features or consider increasing regularisation. Duality gap: 3.970e+09, tolerance: 1.438e+09\n",
            "  coef_, l1_reg, l2_reg, X, y, max_iter, tol, rng, random, positive\n"
          ]
        },
        {
          "output_type": "stream",
          "name": "stdout",
          "text": [
            "[CV] END ...............................alpha=10, l1_ratio=1; total time=   0.5s\n",
            "[CV] END ...............................alpha=10, l1_ratio=1; total time=   0.5s\n",
            "[CV] END .............................alpha=50, l1_ratio=0.1; total time=   0.0s\n",
            "[CV] END .............................alpha=50, l1_ratio=0.1; total time=   0.0s\n",
            "[CV] END .............................alpha=50, l1_ratio=0.1; total time=   0.0s\n",
            "[CV] END .............................alpha=50, l1_ratio=0.1; total time=   0.0s\n",
            "[CV] END .............................alpha=50, l1_ratio=0.1; total time=   0.0s\n",
            "[CV] END .............................alpha=50, l1_ratio=0.5; total time=   0.0s\n",
            "[CV] END .............................alpha=50, l1_ratio=0.5; total time=   0.0s\n",
            "[CV] END .............................alpha=50, l1_ratio=0.5; total time=   0.0s\n",
            "[CV] END .............................alpha=50, l1_ratio=0.5; total time=   0.0s\n",
            "[CV] END .............................alpha=50, l1_ratio=0.5; total time=   0.0s\n",
            "[CV] END .............................alpha=50, l1_ratio=0.7; total time=   0.0s\n",
            "[CV] END .............................alpha=50, l1_ratio=0.7; total time=   0.0s\n",
            "[CV] END .............................alpha=50, l1_ratio=0.7; total time=   0.0s\n",
            "[CV] END .............................alpha=50, l1_ratio=0.7; total time=   0.0s\n",
            "[CV] END .............................alpha=50, l1_ratio=0.7; total time=   0.0s\n",
            "[CV] END .............................alpha=50, l1_ratio=0.9; total time=   0.0s\n",
            "[CV] END .............................alpha=50, l1_ratio=0.9; total time=   0.0s\n",
            "[CV] END .............................alpha=50, l1_ratio=0.9; total time=   0.0s\n",
            "[CV] END .............................alpha=50, l1_ratio=0.9; total time=   0.0s\n",
            "[CV] END .............................alpha=50, l1_ratio=0.9; total time=   0.0s\n",
            "[CV] END ............................alpha=50, l1_ratio=0.95; total time=   0.0s\n",
            "[CV] END ............................alpha=50, l1_ratio=0.95; total time=   0.0s\n",
            "[CV] END ............................alpha=50, l1_ratio=0.95; total time=   0.0s\n",
            "[CV] END ............................alpha=50, l1_ratio=0.95; total time=   0.0s\n",
            "[CV] END ............................alpha=50, l1_ratio=0.95; total time=   0.0s\n",
            "[CV] END ............................alpha=50, l1_ratio=0.99; total time=   0.1s\n",
            "[CV] END ............................alpha=50, l1_ratio=0.99; total time=   0.1s\n",
            "[CV] END ............................alpha=50, l1_ratio=0.99; total time=   0.1s\n",
            "[CV] END ............................alpha=50, l1_ratio=0.99; total time=   0.1s\n",
            "[CV] END ............................alpha=50, l1_ratio=0.99; total time=   0.1s\n",
            "[CV] END ...............................alpha=50, l1_ratio=1; total time=   0.4s\n",
            "[CV] END ...............................alpha=50, l1_ratio=1; total time=   0.4s\n",
            "[CV] END ...............................alpha=50, l1_ratio=1; total time=   0.5s\n",
            "[CV] END ...............................alpha=50, l1_ratio=1; total time=   0.4s\n",
            "[CV] END ...............................alpha=50, l1_ratio=1; total time=   0.4s\n",
            "[CV] END ............................alpha=100, l1_ratio=0.1; total time=   0.0s\n",
            "[CV] END ............................alpha=100, l1_ratio=0.1; total time=   0.0s\n",
            "[CV] END ............................alpha=100, l1_ratio=0.1; total time=   0.0s\n",
            "[CV] END ............................alpha=100, l1_ratio=0.1; total time=   0.0s\n",
            "[CV] END ............................alpha=100, l1_ratio=0.1; total time=   0.0s\n",
            "[CV] END ............................alpha=100, l1_ratio=0.5; total time=   0.0s\n",
            "[CV] END ............................alpha=100, l1_ratio=0.5; total time=   0.0s\n",
            "[CV] END ............................alpha=100, l1_ratio=0.5; total time=   0.0s\n",
            "[CV] END ............................alpha=100, l1_ratio=0.5; total time=   0.0s\n",
            "[CV] END ............................alpha=100, l1_ratio=0.5; total time=   0.0s\n",
            "[CV] END ............................alpha=100, l1_ratio=0.7; total time=   0.0s\n",
            "[CV] END ............................alpha=100, l1_ratio=0.7; total time=   0.0s\n",
            "[CV] END ............................alpha=100, l1_ratio=0.7; total time=   0.0s\n",
            "[CV] END ............................alpha=100, l1_ratio=0.7; total time=   0.0s\n",
            "[CV] END ............................alpha=100, l1_ratio=0.7; total time=   0.0s\n",
            "[CV] END ............................alpha=100, l1_ratio=0.9; total time=   0.0s\n",
            "[CV] END ............................alpha=100, l1_ratio=0.9; total time=   0.0s\n",
            "[CV] END ............................alpha=100, l1_ratio=0.9; total time=   0.0s\n",
            "[CV] END ............................alpha=100, l1_ratio=0.9; total time=   0.0s\n",
            "[CV] END ............................alpha=100, l1_ratio=0.9; total time=   0.0s\n",
            "[CV] END ...........................alpha=100, l1_ratio=0.95; total time=   0.0s\n",
            "[CV] END ...........................alpha=100, l1_ratio=0.95; total time=   0.0s\n",
            "[CV] END ...........................alpha=100, l1_ratio=0.95; total time=   0.0s\n",
            "[CV] END ...........................alpha=100, l1_ratio=0.95; total time=   0.0s\n",
            "[CV] END ...........................alpha=100, l1_ratio=0.95; total time=   0.0s\n",
            "[CV] END ...........................alpha=100, l1_ratio=0.99; total time=   0.0s\n",
            "[CV] END ...........................alpha=100, l1_ratio=0.99; total time=   0.0s\n",
            "[CV] END ...........................alpha=100, l1_ratio=0.99; total time=   0.0s\n",
            "[CV] END ...........................alpha=100, l1_ratio=0.99; total time=   0.0s\n",
            "[CV] END ...........................alpha=100, l1_ratio=0.99; total time=   0.0s\n",
            "[CV] END ..............................alpha=100, l1_ratio=1; total time=   0.2s\n",
            "[CV] END ..............................alpha=100, l1_ratio=1; total time=   0.2s\n",
            "[CV] END ..............................alpha=100, l1_ratio=1; total time=   0.3s\n",
            "[CV] END ..............................alpha=100, l1_ratio=1; total time=   0.2s\n",
            "[CV] END ..............................alpha=100, l1_ratio=1; total time=   0.3s\n"
          ]
        },
        {
          "output_type": "execute_result",
          "data": {
            "text/plain": [
              "GridSearchCV(cv=5, estimator=ElasticNet(),\n",
              "             param_grid={'alpha': [0.1, 1, 5, 10, 50, 100],\n",
              "                         'l1_ratio': [0.1, 0.5, 0.7, 0.9, 0.95, 0.99, 1]},\n",
              "             scoring='neg_mean_squared_error', verbose=2)"
            ]
          },
          "metadata": {},
          "execution_count": 16
        }
      ],
      "source": [
        "grid_model.fit(X_train,y_train)"
      ]
    },
    {
      "cell_type": "code",
      "execution_count": 17,
      "metadata": {
        "colab": {
          "base_uri": "https://localhost:8080/"
        },
        "id": "jKAL1vi-OOJK",
        "outputId": "ff501cdb-b3fb-4eb1-a57b-753e5863cb6a"
      },
      "outputs": [
        {
          "output_type": "execute_result",
          "data": {
            "text/plain": [
              "ElasticNet(alpha=100, l1_ratio=1)"
            ]
          },
          "metadata": {},
          "execution_count": 17
        }
      ],
      "source": [
        "grid_model.best_estimator_\n"
      ]
    },
    {
      "cell_type": "markdown",
      "metadata": {
        "id": "nNgFSmsOOOJK"
      },
      "source": [
        "**TASK: Display the best combination of parameters for your model**"
      ]
    },
    {
      "cell_type": "code",
      "execution_count": 19,
      "metadata": {
        "colab": {
          "base_uri": "https://localhost:8080/"
        },
        "id": "UNhYId2fOOJK",
        "outputId": "f3be0790-3f55-4eef-86ac-88c97666a236"
      },
      "outputs": [
        {
          "output_type": "execute_result",
          "data": {
            "text/plain": [
              "{'alpha': 100, 'l1_ratio': 1}"
            ]
          },
          "metadata": {},
          "execution_count": 19
        }
      ],
      "source": [
        "grid_model.best_params_"
      ]
    },
    {
      "cell_type": "markdown",
      "metadata": {
        "id": "vovwv68YOOJL"
      },
      "source": [
        "**TASK: Evaluate your model's performance on the unseen 10% scaled test set. In the solutions notebook we achieved an MAE of $\\$$14149 and a RMSE of $\\$$20532**"
      ]
    },
    {
      "cell_type": "code",
      "execution_count": 20,
      "metadata": {
        "id": "htzkze86OOJL"
      },
      "outputs": [],
      "source": [
        "test_predictions = grid_model.predict(X_test)\n",
        "\n",
        "from sklearn.metrics import mean_absolute_error,mean_squared_error\n",
        "MAE = mean_absolute_error(y_test,test_predictions)\n",
        "MSE = mean_squared_error(y_test,test_predictions)\n",
        "RMSE = np.sqrt(MSE)"
      ]
    },
    {
      "cell_type": "code",
      "execution_count": 22,
      "metadata": {
        "colab": {
          "base_uri": "https://localhost:8080/"
        },
        "id": "l8oQa5ytOOJL",
        "outputId": "2b16c296-97d7-42c7-e0ad-a621b8295052"
      },
      "outputs": [
        {
          "output_type": "execute_result",
          "data": {
            "text/plain": [
              "14195.354900562172"
            ]
          },
          "metadata": {},
          "execution_count": 22
        }
      ],
      "source": [
        "MAE"
      ]
    },
    {
      "cell_type": "code",
      "execution_count": 23,
      "metadata": {
        "colab": {
          "base_uri": "https://localhost:8080/"
        },
        "id": "ulHxbK9pOOJL",
        "outputId": "6c58d668-9392-4920-929c-8267e2ec3188"
      },
      "outputs": [
        {
          "output_type": "execute_result",
          "data": {
            "text/plain": [
              "20558.50856689317"
            ]
          },
          "metadata": {},
          "execution_count": 23
        }
      ],
      "source": [
        "RMSE "
      ]
    },
    {
      "cell_type": "markdown",
      "metadata": {
        "id": "LFDq7Zo8OOJM"
      },
      "source": [
        "## Great work!\n",
        "\n",
        "----"
      ]
    }
  ],
  "metadata": {
    "kernelspec": {
      "display_name": "Python 3",
      "language": "python",
      "name": "python3"
    },
    "language_info": {
      "codemirror_mode": {
        "name": "ipython",
        "version": 3
      },
      "file_extension": ".py",
      "mimetype": "text/x-python",
      "name": "python",
      "nbconvert_exporter": "python",
      "pygments_lexer": "ipython3",
      "version": "3.7.6"
    },
    "colab": {
      "name": "02-Linear-Regression-Project-Exercise.ipynb",
      "provenance": []
    }
  },
  "nbformat": 4,
  "nbformat_minor": 0
}